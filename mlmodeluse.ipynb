{
 "cells": [
  {
   "cell_type": "code",
   "execution_count": 1,
   "metadata": {},
   "outputs": [],
   "source": [
    "import numpy as np\n",
    "import pandas as pd\n",
    "import seaborn as sns\n",
    "import matplotlib.pylab as plt\n",
    "from sklearn.preprocessing import StandardScaler\n",
    "#from sklearn.cross_validation import train_test_split\n",
    "from sklearn.linear_model import LogisticRegression\n",
    "from sklearn.metrics import confusion_matrix\n",
    "from sklearn.metrics import classification_report\n",
    "from sklearn.neighbors import KNeighborsClassifier\n",
    "from sklearn import metrics"
   ]
  },
  {
   "cell_type": "markdown",
   "metadata": {},
   "source": [
    "1. read the train dataset into datatrain[]"
   ]
  },
  {
   "cell_type": "code",
   "execution_count": 2,
   "metadata": {},
   "outputs": [
    {
     "data": {
      "text/html": [
       "<div>\n",
       "<style scoped>\n",
       "    .dataframe tbody tr th:only-of-type {\n",
       "        vertical-align: middle;\n",
       "    }\n",
       "\n",
       "    .dataframe tbody tr th {\n",
       "        vertical-align: top;\n",
       "    }\n",
       "\n",
       "    .dataframe thead th {\n",
       "        text-align: right;\n",
       "    }\n",
       "</style>\n",
       "<table border=\"1\" class=\"dataframe\">\n",
       "  <thead>\n",
       "    <tr style=\"text-align: right;\">\n",
       "      <th></th>\n",
       "      <th>Instance</th>\n",
       "      <th>Year of Record</th>\n",
       "      <th>Gender</th>\n",
       "      <th>Age</th>\n",
       "      <th>Country</th>\n",
       "      <th>Size of City</th>\n",
       "      <th>Profession</th>\n",
       "      <th>University Degree</th>\n",
       "      <th>Wears Glasses</th>\n",
       "      <th>Hair Color</th>\n",
       "      <th>Body Height [cm]</th>\n",
       "      <th>Income in EUR</th>\n",
       "    </tr>\n",
       "  </thead>\n",
       "  <tbody>\n",
       "    <tr>\n",
       "      <td>0</td>\n",
       "      <td>1</td>\n",
       "      <td>1997.0</td>\n",
       "      <td>0</td>\n",
       "      <td>41.0</td>\n",
       "      <td>Belarus</td>\n",
       "      <td>1239930</td>\n",
       "      <td>steel workers</td>\n",
       "      <td>Bachelor</td>\n",
       "      <td>0</td>\n",
       "      <td>Blond</td>\n",
       "      <td>193</td>\n",
       "      <td>61031.94416</td>\n",
       "    </tr>\n",
       "    <tr>\n",
       "      <td>1</td>\n",
       "      <td>2</td>\n",
       "      <td>1996.0</td>\n",
       "      <td>other</td>\n",
       "      <td>41.0</td>\n",
       "      <td>Singapore</td>\n",
       "      <td>1603504</td>\n",
       "      <td>safe event coordinator</td>\n",
       "      <td>Master</td>\n",
       "      <td>0</td>\n",
       "      <td>Black</td>\n",
       "      <td>186</td>\n",
       "      <td>91001.32764</td>\n",
       "    </tr>\n",
       "    <tr>\n",
       "      <td>2</td>\n",
       "      <td>3</td>\n",
       "      <td>2018.0</td>\n",
       "      <td>other</td>\n",
       "      <td>28.0</td>\n",
       "      <td>Norway</td>\n",
       "      <td>1298017</td>\n",
       "      <td>receivables/payables analyst</td>\n",
       "      <td>PhD</td>\n",
       "      <td>1</td>\n",
       "      <td>Brown</td>\n",
       "      <td>170</td>\n",
       "      <td>157982.17670</td>\n",
       "    </tr>\n",
       "    <tr>\n",
       "      <td>3</td>\n",
       "      <td>4</td>\n",
       "      <td>2006.0</td>\n",
       "      <td>other</td>\n",
       "      <td>33.0</td>\n",
       "      <td>Cuba</td>\n",
       "      <td>751903</td>\n",
       "      <td>fleet assistant</td>\n",
       "      <td>No</td>\n",
       "      <td>1</td>\n",
       "      <td>Black</td>\n",
       "      <td>171</td>\n",
       "      <td>45993.75793</td>\n",
       "    </tr>\n",
       "    <tr>\n",
       "      <td>4</td>\n",
       "      <td>5</td>\n",
       "      <td>2010.0</td>\n",
       "      <td>female</td>\n",
       "      <td>46.0</td>\n",
       "      <td>United Arab Emirates</td>\n",
       "      <td>95389</td>\n",
       "      <td>lead trainer</td>\n",
       "      <td>0</td>\n",
       "      <td>0</td>\n",
       "      <td>Blond</td>\n",
       "      <td>188</td>\n",
       "      <td>38022.16217</td>\n",
       "    </tr>\n",
       "  </tbody>\n",
       "</table>\n",
       "</div>"
      ],
      "text/plain": [
       "   Instance  Year of Record  Gender   Age               Country  Size of City  \\\n",
       "0         1          1997.0       0  41.0               Belarus       1239930   \n",
       "1         2          1996.0   other  41.0             Singapore       1603504   \n",
       "2         3          2018.0   other  28.0                Norway       1298017   \n",
       "3         4          2006.0   other  33.0                  Cuba        751903   \n",
       "4         5          2010.0  female  46.0  United Arab Emirates         95389   \n",
       "\n",
       "                     Profession University Degree  Wears Glasses Hair Color  \\\n",
       "0                 steel workers          Bachelor              0      Blond   \n",
       "1        safe event coordinator            Master              0      Black   \n",
       "2  receivables/payables analyst               PhD              1      Brown   \n",
       "3               fleet assistant                No              1      Black   \n",
       "4                  lead trainer                 0              0      Blond   \n",
       "\n",
       "   Body Height [cm]  Income in EUR  \n",
       "0               193    61031.94416  \n",
       "1               186    91001.32764  \n",
       "2               170   157982.17670  \n",
       "3               171    45993.75793  \n",
       "4               188    38022.16217  "
      ]
     },
     "execution_count": 2,
     "metadata": {},
     "output_type": "execute_result"
    }
   ],
   "source": [
    "filepath=\"C:\\\\Users\\\\towermalta\\\\MLcode\\\\tcd ml 2019-20 income prediction training (with labels).csv\"\n",
    "datatrain = pd.read_csv(filepath)\n",
    "datatrain.head()"
   ]
  },
  {
   "cell_type": "markdown",
   "metadata": {},
   "source": [
    "2. read the test dataset into the datatest[]"
   ]
  },
  {
   "cell_type": "code",
   "execution_count": 3,
   "metadata": {},
   "outputs": [
    {
     "data": {
      "text/html": [
       "<div>\n",
       "<style scoped>\n",
       "    .dataframe tbody tr th:only-of-type {\n",
       "        vertical-align: middle;\n",
       "    }\n",
       "\n",
       "    .dataframe tbody tr th {\n",
       "        vertical-align: top;\n",
       "    }\n",
       "\n",
       "    .dataframe thead th {\n",
       "        text-align: right;\n",
       "    }\n",
       "</style>\n",
       "<table border=\"1\" class=\"dataframe\">\n",
       "  <thead>\n",
       "    <tr style=\"text-align: right;\">\n",
       "      <th></th>\n",
       "      <th>Instance</th>\n",
       "      <th>Year of Record</th>\n",
       "      <th>Gender</th>\n",
       "      <th>Age</th>\n",
       "      <th>Country</th>\n",
       "      <th>Size of City</th>\n",
       "      <th>Profession</th>\n",
       "      <th>University Degree</th>\n",
       "      <th>Wears Glasses</th>\n",
       "      <th>Hair Color</th>\n",
       "      <th>Body Height [cm]</th>\n",
       "      <th>Income</th>\n",
       "    </tr>\n",
       "  </thead>\n",
       "  <tbody>\n",
       "    <tr>\n",
       "      <td>0</td>\n",
       "      <td>111994</td>\n",
       "      <td>1992.0</td>\n",
       "      <td>other</td>\n",
       "      <td>21.0</td>\n",
       "      <td>Honduras</td>\n",
       "      <td>391652</td>\n",
       "      <td>senior project analyst</td>\n",
       "      <td>Master</td>\n",
       "      <td>1</td>\n",
       "      <td>Brown</td>\n",
       "      <td>153</td>\n",
       "      <td>NaN</td>\n",
       "    </tr>\n",
       "    <tr>\n",
       "      <td>1</td>\n",
       "      <td>111995</td>\n",
       "      <td>1986.0</td>\n",
       "      <td>other</td>\n",
       "      <td>34.0</td>\n",
       "      <td>Kyrgyzstan</td>\n",
       "      <td>33653</td>\n",
       "      <td>greeter</td>\n",
       "      <td>Bachelor</td>\n",
       "      <td>0</td>\n",
       "      <td>Black</td>\n",
       "      <td>163</td>\n",
       "      <td>NaN</td>\n",
       "    </tr>\n",
       "    <tr>\n",
       "      <td>2</td>\n",
       "      <td>111996</td>\n",
       "      <td>1994.0</td>\n",
       "      <td>unknown</td>\n",
       "      <td>53.0</td>\n",
       "      <td>Portugal</td>\n",
       "      <td>34765</td>\n",
       "      <td>liaison</td>\n",
       "      <td>Bachelor</td>\n",
       "      <td>1</td>\n",
       "      <td>Blond</td>\n",
       "      <td>153</td>\n",
       "      <td>NaN</td>\n",
       "    </tr>\n",
       "    <tr>\n",
       "      <td>3</td>\n",
       "      <td>111997</td>\n",
       "      <td>1984.0</td>\n",
       "      <td>0</td>\n",
       "      <td>29.0</td>\n",
       "      <td>Uruguay</td>\n",
       "      <td>1494132</td>\n",
       "      <td>occupational therapist</td>\n",
       "      <td>No</td>\n",
       "      <td>0</td>\n",
       "      <td>Black</td>\n",
       "      <td>154</td>\n",
       "      <td>NaN</td>\n",
       "    </tr>\n",
       "    <tr>\n",
       "      <td>4</td>\n",
       "      <td>111998</td>\n",
       "      <td>2007.0</td>\n",
       "      <td>other</td>\n",
       "      <td>17.0</td>\n",
       "      <td>Serbia</td>\n",
       "      <td>120661</td>\n",
       "      <td>portfolio manager</td>\n",
       "      <td>No</td>\n",
       "      <td>0</td>\n",
       "      <td>Red</td>\n",
       "      <td>191</td>\n",
       "      <td>NaN</td>\n",
       "    </tr>\n",
       "  </tbody>\n",
       "</table>\n",
       "</div>"
      ],
      "text/plain": [
       "   Instance  Year of Record   Gender   Age     Country  Size of City  \\\n",
       "0    111994          1992.0    other  21.0    Honduras        391652   \n",
       "1    111995          1986.0    other  34.0  Kyrgyzstan         33653   \n",
       "2    111996          1994.0  unknown  53.0    Portugal         34765   \n",
       "3    111997          1984.0        0  29.0     Uruguay       1494132   \n",
       "4    111998          2007.0    other  17.0      Serbia        120661   \n",
       "\n",
       "               Profession University Degree  Wears Glasses Hair Color  \\\n",
       "0  senior project analyst            Master              1      Brown   \n",
       "1                 greeter          Bachelor              0      Black   \n",
       "2                 liaison          Bachelor              1      Blond   \n",
       "3  occupational therapist                No              0      Black   \n",
       "4       portfolio manager                No              0        Red   \n",
       "\n",
       "   Body Height [cm]  Income  \n",
       "0               153     NaN  \n",
       "1               163     NaN  \n",
       "2               153     NaN  \n",
       "3               154     NaN  \n",
       "4               191     NaN  "
      ]
     },
     "execution_count": 3,
     "metadata": {},
     "output_type": "execute_result"
    }
   ],
   "source": [
    "filepath=\"C:\\\\Users\\\\towermalta\\\\MLcode\\\\tcd ml 2019-20 income prediction test (without labels).csv\"\n",
    "# read_csv里面的参数是csv在你电脑上的路径\n",
    "datatest = pd.read_csv(filepath)\n",
    "#读取前五行数据，如果是最后五行，用data.tail()\n",
    "datatest.head()"
   ]
  },
  {
   "cell_type": "markdown",
   "metadata": {},
   "source": [
    "3. according to the analysis before, drop the faeture of \"wears glasses, hair color\", process the feature in both datatrain and datatest"
   ]
  },
  {
   "cell_type": "code",
   "execution_count": 4,
   "metadata": {},
   "outputs": [
    {
     "data": {
      "text/html": [
       "<div>\n",
       "<style scoped>\n",
       "    .dataframe tbody tr th:only-of-type {\n",
       "        vertical-align: middle;\n",
       "    }\n",
       "\n",
       "    .dataframe tbody tr th {\n",
       "        vertical-align: top;\n",
       "    }\n",
       "\n",
       "    .dataframe thead th {\n",
       "        text-align: right;\n",
       "    }\n",
       "</style>\n",
       "<table border=\"1\" class=\"dataframe\">\n",
       "  <thead>\n",
       "    <tr style=\"text-align: right;\">\n",
       "      <th></th>\n",
       "      <th>Instance</th>\n",
       "      <th>Year of Record</th>\n",
       "      <th>Gender</th>\n",
       "      <th>Age</th>\n",
       "      <th>Country</th>\n",
       "      <th>Size of City</th>\n",
       "      <th>Profession</th>\n",
       "      <th>University Degree</th>\n",
       "      <th>Body Height [cm]</th>\n",
       "      <th>Income in EUR</th>\n",
       "    </tr>\n",
       "  </thead>\n",
       "  <tbody>\n",
       "    <tr>\n",
       "      <td>0</td>\n",
       "      <td>1</td>\n",
       "      <td>1997.0</td>\n",
       "      <td>0</td>\n",
       "      <td>41.0</td>\n",
       "      <td>Belarus</td>\n",
       "      <td>1239930</td>\n",
       "      <td>steel workers</td>\n",
       "      <td>Bachelor</td>\n",
       "      <td>193</td>\n",
       "      <td>61031.94416</td>\n",
       "    </tr>\n",
       "    <tr>\n",
       "      <td>1</td>\n",
       "      <td>2</td>\n",
       "      <td>1996.0</td>\n",
       "      <td>other</td>\n",
       "      <td>41.0</td>\n",
       "      <td>Singapore</td>\n",
       "      <td>1603504</td>\n",
       "      <td>safe event coordinator</td>\n",
       "      <td>Master</td>\n",
       "      <td>186</td>\n",
       "      <td>91001.32764</td>\n",
       "    </tr>\n",
       "    <tr>\n",
       "      <td>2</td>\n",
       "      <td>3</td>\n",
       "      <td>2018.0</td>\n",
       "      <td>other</td>\n",
       "      <td>28.0</td>\n",
       "      <td>Norway</td>\n",
       "      <td>1298017</td>\n",
       "      <td>receivables/payables analyst</td>\n",
       "      <td>PhD</td>\n",
       "      <td>170</td>\n",
       "      <td>157982.17670</td>\n",
       "    </tr>\n",
       "    <tr>\n",
       "      <td>3</td>\n",
       "      <td>4</td>\n",
       "      <td>2006.0</td>\n",
       "      <td>other</td>\n",
       "      <td>33.0</td>\n",
       "      <td>Cuba</td>\n",
       "      <td>751903</td>\n",
       "      <td>fleet assistant</td>\n",
       "      <td>No</td>\n",
       "      <td>171</td>\n",
       "      <td>45993.75793</td>\n",
       "    </tr>\n",
       "    <tr>\n",
       "      <td>4</td>\n",
       "      <td>5</td>\n",
       "      <td>2010.0</td>\n",
       "      <td>female</td>\n",
       "      <td>46.0</td>\n",
       "      <td>United Arab Emirates</td>\n",
       "      <td>95389</td>\n",
       "      <td>lead trainer</td>\n",
       "      <td>0</td>\n",
       "      <td>188</td>\n",
       "      <td>38022.16217</td>\n",
       "    </tr>\n",
       "  </tbody>\n",
       "</table>\n",
       "</div>"
      ],
      "text/plain": [
       "   Instance  Year of Record  Gender   Age               Country  Size of City  \\\n",
       "0         1          1997.0       0  41.0               Belarus       1239930   \n",
       "1         2          1996.0   other  41.0             Singapore       1603504   \n",
       "2         3          2018.0   other  28.0                Norway       1298017   \n",
       "3         4          2006.0   other  33.0                  Cuba        751903   \n",
       "4         5          2010.0  female  46.0  United Arab Emirates         95389   \n",
       "\n",
       "                     Profession University Degree  Body Height [cm]  \\\n",
       "0                 steel workers          Bachelor               193   \n",
       "1        safe event coordinator            Master               186   \n",
       "2  receivables/payables analyst               PhD               170   \n",
       "3               fleet assistant                No               171   \n",
       "4                  lead trainer                 0               188   \n",
       "\n",
       "   Income in EUR  \n",
       "0    61031.94416  \n",
       "1    91001.32764  \n",
       "2   157982.17670  \n",
       "3    45993.75793  \n",
       "4    38022.16217  "
      ]
     },
     "execution_count": 4,
     "metadata": {},
     "output_type": "execute_result"
    }
   ],
   "source": [
    "# 选取数据集中有用的特征\n",
    "datatrain = datatrain.drop(labels=[ 'Wears Glasses', 'Hair Color'], axis=1)\n",
    "datatrain.head()"
   ]
  },
  {
   "cell_type": "code",
   "execution_count": 5,
   "metadata": {},
   "outputs": [
    {
     "data": {
      "text/html": [
       "<div>\n",
       "<style scoped>\n",
       "    .dataframe tbody tr th:only-of-type {\n",
       "        vertical-align: middle;\n",
       "    }\n",
       "\n",
       "    .dataframe tbody tr th {\n",
       "        vertical-align: top;\n",
       "    }\n",
       "\n",
       "    .dataframe thead th {\n",
       "        text-align: right;\n",
       "    }\n",
       "</style>\n",
       "<table border=\"1\" class=\"dataframe\">\n",
       "  <thead>\n",
       "    <tr style=\"text-align: right;\">\n",
       "      <th></th>\n",
       "      <th>Instance</th>\n",
       "      <th>Year of Record</th>\n",
       "      <th>Gender</th>\n",
       "      <th>Age</th>\n",
       "      <th>Country</th>\n",
       "      <th>Size of City</th>\n",
       "      <th>Profession</th>\n",
       "      <th>University Degree</th>\n",
       "      <th>Body Height [cm]</th>\n",
       "      <th>Income</th>\n",
       "    </tr>\n",
       "  </thead>\n",
       "  <tbody>\n",
       "    <tr>\n",
       "      <td>0</td>\n",
       "      <td>111994</td>\n",
       "      <td>1992.0</td>\n",
       "      <td>other</td>\n",
       "      <td>21.0</td>\n",
       "      <td>Honduras</td>\n",
       "      <td>391652</td>\n",
       "      <td>senior project analyst</td>\n",
       "      <td>Master</td>\n",
       "      <td>153</td>\n",
       "      <td>NaN</td>\n",
       "    </tr>\n",
       "    <tr>\n",
       "      <td>1</td>\n",
       "      <td>111995</td>\n",
       "      <td>1986.0</td>\n",
       "      <td>other</td>\n",
       "      <td>34.0</td>\n",
       "      <td>Kyrgyzstan</td>\n",
       "      <td>33653</td>\n",
       "      <td>greeter</td>\n",
       "      <td>Bachelor</td>\n",
       "      <td>163</td>\n",
       "      <td>NaN</td>\n",
       "    </tr>\n",
       "    <tr>\n",
       "      <td>2</td>\n",
       "      <td>111996</td>\n",
       "      <td>1994.0</td>\n",
       "      <td>unknown</td>\n",
       "      <td>53.0</td>\n",
       "      <td>Portugal</td>\n",
       "      <td>34765</td>\n",
       "      <td>liaison</td>\n",
       "      <td>Bachelor</td>\n",
       "      <td>153</td>\n",
       "      <td>NaN</td>\n",
       "    </tr>\n",
       "    <tr>\n",
       "      <td>3</td>\n",
       "      <td>111997</td>\n",
       "      <td>1984.0</td>\n",
       "      <td>0</td>\n",
       "      <td>29.0</td>\n",
       "      <td>Uruguay</td>\n",
       "      <td>1494132</td>\n",
       "      <td>occupational therapist</td>\n",
       "      <td>No</td>\n",
       "      <td>154</td>\n",
       "      <td>NaN</td>\n",
       "    </tr>\n",
       "    <tr>\n",
       "      <td>4</td>\n",
       "      <td>111998</td>\n",
       "      <td>2007.0</td>\n",
       "      <td>other</td>\n",
       "      <td>17.0</td>\n",
       "      <td>Serbia</td>\n",
       "      <td>120661</td>\n",
       "      <td>portfolio manager</td>\n",
       "      <td>No</td>\n",
       "      <td>191</td>\n",
       "      <td>NaN</td>\n",
       "    </tr>\n",
       "  </tbody>\n",
       "</table>\n",
       "</div>"
      ],
      "text/plain": [
       "   Instance  Year of Record   Gender   Age     Country  Size of City  \\\n",
       "0    111994          1992.0    other  21.0    Honduras        391652   \n",
       "1    111995          1986.0    other  34.0  Kyrgyzstan         33653   \n",
       "2    111996          1994.0  unknown  53.0    Portugal         34765   \n",
       "3    111997          1984.0        0  29.0     Uruguay       1494132   \n",
       "4    111998          2007.0    other  17.0      Serbia        120661   \n",
       "\n",
       "               Profession University Degree  Body Height [cm]  Income  \n",
       "0  senior project analyst            Master               153     NaN  \n",
       "1                 greeter          Bachelor               163     NaN  \n",
       "2                 liaison          Bachelor               153     NaN  \n",
       "3  occupational therapist                No               154     NaN  \n",
       "4       portfolio manager                No               191     NaN  "
      ]
     },
     "execution_count": 5,
     "metadata": {},
     "output_type": "execute_result"
    }
   ],
   "source": [
    "# 选取数据集中有用的特征\n",
    "datatest = datatest.drop(labels=[ 'Wears Glasses', 'Hair Color'], axis=1)\n",
    "datatest.head()"
   ]
  },
  {
   "cell_type": "markdown",
   "metadata": {},
   "source": [
    "4. divide the data(datatrain and datatest) into two parts\n",
    "   first part:\"gender, country, profession, university degree\"\n",
    "   second part:\"year of record, age, body height, size of city\""
   ]
  },
  {
   "cell_type": "code",
   "execution_count": 6,
   "metadata": {},
   "outputs": [],
   "source": [
    "data_object1 = pd.DataFrame(datatrain, columns=['Gender', 'Country', 'Profession', 'University Degree'], index=datatrain.index)\n",
    "data_num1 = pd.DataFrame(datatrain, columns=['Year of Record', 'Age', 'Body Height [cm]','Size of City'], index=datatrain.index)\n",
    "\n",
    "data_object2 = pd.DataFrame(datatest, columns=['Gender', 'Country', 'Profession', 'University Degree'], index=datatest.index)\n",
    "data_num2 = pd.DataFrame(datatest, columns=['Year of Record', 'Age', 'Body Height [cm]','Size of City'], index=datatest.index)\n"
   ]
  },
  {
   "cell_type": "markdown",
   "metadata": {},
   "source": [
    "5. to fill the missing value with most frequent value\n",
    "   use simpleimputer() in sklearn"
   ]
  },
  {
   "cell_type": "code",
   "execution_count": 7,
   "metadata": {},
   "outputs": [],
   "source": [
    "#填充有缺失值的行\n",
    "from sklearn.impute import SimpleImputer\n",
    "#SimpleImputer中输入的至少是二维矩阵  \n",
    "simple = SimpleImputer(missing_values = np.nan,strategy=\"most_frequent\")\n",
    "data_object1 = simple.fit_transform(data_object1.values)\n",
    "data_num1 = simple.fit_transform(data_num1.values)\n",
    "\n",
    "data_object2 = simple.fit_transform(data_object2.values)\n",
    "data_num2 = simple.fit_transform(data_num2.values)"
   ]
  },
  {
   "cell_type": "markdown",
   "metadata": {},
   "source": [
    "6. use ordinalEncoder() to encode the object value"
   ]
  },
  {
   "cell_type": "code",
   "execution_count": 8,
   "metadata": {},
   "outputs": [
    {
     "name": "stdout",
     "output_type": "stream",
     "text": [
      "[[1.997e+03 4.100e+01 1.930e+02 ... 1.200e+01 1.209e+03 1.000e+00]\n",
      " [1.996e+03 4.100e+01 1.860e+02 ... 1.230e+02 1.048e+03 2.000e+00]\n",
      " [2.018e+03 2.800e+01 1.700e+02 ... 1.060e+02 1.008e+03 4.000e+00]\n",
      " ...\n",
      " [1.993e+03 3.600e+01 1.530e+02 ... 1.320e+02 7.890e+02 2.000e+00]\n",
      " [2.019e+03 5.400e+01 1.900e+02 ... 4.100e+01 1.085e+03 3.000e+00]\n",
      " [2.017e+03 2.700e+01 1.740e+02 ... 1.330e+02 9.620e+02 3.000e+00]]\n"
     ]
    }
   ],
   "source": [
    "#对object类型的数据进行编码\n",
    "from sklearn import preprocessing\n",
    "encoder=preprocessing.OrdinalEncoder()\n",
    "data_object1=encoder.fit_transform(data_object1)\n",
    "X = np.c_[data_num1,data_object1]\n",
    "\n",
    "print(X)"
   ]
  },
  {
   "cell_type": "markdown",
   "metadata": {},
   "source": [
    "7. got the value of target"
   ]
  },
  {
   "cell_type": "code",
   "execution_count": 9,
   "metadata": {},
   "outputs": [
    {
     "name": "stdout",
     "output_type": "stream",
     "text": [
      "[[ 61031.94416]\n",
      " [ 91001.32764]\n",
      " [157982.1767 ]\n",
      " ...\n",
      " [289951.3294 ]\n",
      " [100046.5278 ]\n",
      " [145886.2885 ]]\n"
     ]
    }
   ],
   "source": [
    "#获得y值\n",
    "train_income = pd.DataFrame(datatrain, columns=['Income in EUR'], index=datatrain.index)\n",
    "#y = data_conti.values\n",
    "y = train_income.values\n",
    "print(y)"
   ]
  },
  {
   "cell_type": "markdown",
   "metadata": {},
   "source": [
    "8. divide the train dataset into X_train, X_test, y_train, y_test"
   ]
  },
  {
   "cell_type": "code",
   "execution_count": 10,
   "metadata": {},
   "outputs": [
    {
     "name": "stdout",
     "output_type": "stream",
     "text": [
      "(89594, 8)\n",
      "(89594, 1)\n",
      "(22399, 8)\n",
      "(22399, 1)\n"
     ]
    }
   ],
   "source": [
    "from sklearn.model_selection import train_test_split\n",
    "X_train, X_test, y_train, y_test = train_test_split(X, y, test_size=0.2, random_state=1)\n",
    "print (X_train.shape)\n",
    "print (y_train.shape)\n",
    "print (X_test.shape)\n",
    "print (y_test.shape)"
   ]
  },
  {
   "cell_type": "markdown",
   "metadata": {},
   "source": [
    "9. use minmaxscaler() to scale the feature of X_train"
   ]
  },
  {
   "cell_type": "code",
   "execution_count": 11,
   "metadata": {},
   "outputs": [
    {
     "name": "stdout",
     "output_type": "stream",
     "text": [
      "[[0.94871795 0.18811881 0.59064327 ... 0.95597484 0.69678865 0.25      ]\n",
      " [0.94871795 0.0990099  0.59649123 ... 0.83018868 0.82374907 0.75      ]\n",
      " [0.02564103 0.41584158 0.64912281 ... 0.89937107 0.7356236  0.5       ]\n",
      " ...\n",
      " [0.41025641 0.21782178 0.28654971 ... 0.50314465 0.52352502 0.5       ]\n",
      " [0.1025641  0.16831683 0.48538012 ... 0.7672956  0.5690814  0.75      ]\n",
      " [0.92307692 0.01980198 0.39766082 ... 0.28301887 0.86407767 0.25      ]]\n"
     ]
    }
   ],
   "source": [
    "#对特征进行缩放\n",
    "from sklearn.preprocessing import MinMaxScaler\n",
    "scaler = MinMaxScaler()\n",
    "#特征很多的时候使用MinMaxScaler().partial_fit(data)来代替fit否则会报错\n",
    "#scaler.fit(X)  #在这里本质是生成min(x)和max(x)\n",
    "X_train = scaler.fit_transform(X_train)  #通过接口导出结果\n",
    "print(X_train)"
   ]
  },
  {
   "cell_type": "markdown",
   "metadata": {},
   "source": [
    "10. use LinearRegression to train the train dataset"
   ]
  },
  {
   "cell_type": "code",
   "execution_count": 12,
   "metadata": {},
   "outputs": [
    {
     "data": {
      "text/plain": [
       "LinearRegression(copy_X=True, fit_intercept=True, n_jobs=None, normalize=False)"
      ]
     },
     "execution_count": 12,
     "metadata": {},
     "output_type": "execute_result"
    }
   ],
   "source": [
    "#训练模型\n",
    "from sklearn.linear_model import LinearRegression\n",
    "linreg = LinearRegression()\n",
    "linreg.fit(X_train, y_train)\n",
    "\n",
    "#from sklearn.ensemble import RandomForestRegressor\n",
    "#forest_reg = RandomForestRegressor()\n",
    "#forest_reg.fit(X_train, y_train)"
   ]
  },
  {
   "cell_type": "markdown",
   "metadata": {},
   "source": [
    "11. encode the X_test"
   ]
  },
  {
   "cell_type": "code",
   "execution_count": 13,
   "metadata": {},
   "outputs": [
    {
     "name": "stdout",
     "output_type": "stream",
     "text": [
      "[[1.992e+03 2.100e+01 1.530e+02 ... 6.000e+01 1.115e+03 2.000e+00]\n",
      " [1.986e+03 3.400e+01 1.630e+02 ... 7.200e+01 5.780e+02 1.000e+00]\n",
      " [1.994e+03 5.300e+01 1.530e+02 ... 1.110e+02 7.150e+02 1.000e+00]\n",
      " ...\n",
      " [2.019e+03 5.000e+01 1.620e+02 ... 1.350e+02 7.890e+02 2.000e+00]\n",
      " [1.980e+03 5.400e+01 1.620e+02 ... 9.800e+01 6.730e+02 2.000e+00]\n",
      " [2.017e+03 4.100e+01 1.970e+02 ... 1.430e+02 7.560e+02 2.000e+00]]\n"
     ]
    }
   ],
   "source": [
    "data_object2=encoder.fit_transform(data_object2)\n",
    "X_test1 = np.c_[data_num2,data_object2]\n",
    "print(X_test1)"
   ]
  },
  {
   "cell_type": "markdown",
   "metadata": {},
   "source": [
    "12. combine the dataset of test before with the new X_test\n",
    "    this is bigger than the original X_test\n",
    "    but will perform better"
   ]
  },
  {
   "cell_type": "code",
   "execution_count": 14,
   "metadata": {},
   "outputs": [
    {
     "name": "stdout",
     "output_type": "stream",
     "text": [
      "(95629, 8)\n",
      "[[2.011e+03 2.400e+01 1.720e+02 ... 1.360e+02 1.072e+03 1.000e+00]\n",
      " [1.995e+03 2.300e+01 1.780e+02 ... 7.300e+01 7.000e+01 1.000e+00]\n",
      " [1.995e+03 4.800e+01 2.100e+02 ... 1.130e+02 9.740e+02 1.000e+00]\n",
      " ...\n",
      " [2.019e+03 5.000e+01 1.620e+02 ... 1.350e+02 7.890e+02 2.000e+00]\n",
      " [1.980e+03 5.400e+01 1.620e+02 ... 9.800e+01 6.730e+02 2.000e+00]\n",
      " [2.017e+03 4.100e+01 1.970e+02 ... 1.430e+02 7.560e+02 2.000e+00]]\n"
     ]
    }
   ],
   "source": [
    "X_test2 = np.concatenate((X_test,X_test1),axis=0)\n",
    "print(X_test2.shape)\n",
    "print(X_test2)"
   ]
  },
  {
   "cell_type": "markdown",
   "metadata": {},
   "source": [
    "13. scale the testX dataset"
   ]
  },
  {
   "cell_type": "code",
   "execution_count": 15,
   "metadata": {},
   "outputs": [
    {
     "name": "stdout",
     "output_type": "stream",
     "text": [
      "[[0.79487179 0.08928571 0.45637584 ... 0.85534591 0.80059746 0.25      ]\n",
      " [0.38461538 0.08035714 0.4966443  ... 0.4591195  0.05227782 0.25      ]\n",
      " [0.38461538 0.30357143 0.7114094  ... 0.71069182 0.72740851 0.25      ]\n",
      " ...\n",
      " [1.         0.32142857 0.38926174 ... 0.8490566  0.58924571 0.5       ]\n",
      " [0.         0.35714286 0.38926174 ... 0.6163522  0.50261389 0.5       ]\n",
      " [0.94871795 0.24107143 0.62416107 ... 0.89937107 0.56460045 0.5       ]]\n"
     ]
    }
   ],
   "source": [
    "X_test = scaler.fit_transform(X_test2)  #通过接口导出结果\n",
    "print(X_test)"
   ]
  },
  {
   "cell_type": "markdown",
   "metadata": {},
   "source": [
    "14. use the testX to predict the income "
   ]
  },
  {
   "cell_type": "code",
   "execution_count": 16,
   "metadata": {},
   "outputs": [
    {
     "name": "stdout",
     "output_type": "stream",
     "text": [
      "[[108353.0345478 ]\n",
      " [ 16930.05210477]\n",
      " [134827.46341319]\n",
      " ...\n",
      " [140670.48634148]\n",
      " [ 61700.29470528]\n",
      " [140642.4863915 ]]\n"
     ]
    }
   ],
   "source": [
    "#y_pred = forest_reg.predict(X_test2)\n",
    "y_pred = linreg.predict(X_test)\n",
    "print(y_pred)"
   ]
  },
  {
   "cell_type": "code",
   "execution_count": 18,
   "metadata": {},
   "outputs": [
    {
     "name": "stdout",
     "output_type": "stream",
     "text": [
      "              Income\n",
      "0      108353.034548\n",
      "1       16930.052105\n",
      "2      134827.463413\n",
      "3      147523.209325\n",
      "4      109886.356222\n",
      "...              ...\n",
      "95624  140883.081288\n",
      "95625  149524.636216\n",
      "95626  140670.486341\n",
      "95627   61700.294705\n",
      "95628  140642.486391\n",
      "\n",
      "[95629 rows x 1 columns]\n"
     ]
    }
   ],
   "source": [
    "income = pd.DataFrame(y_pred, columns=['Income'])\n",
    "print(income)"
   ]
  },
  {
   "cell_type": "markdown",
   "metadata": {},
   "source": [
    "15. put the result into a file"
   ]
  },
  {
   "cell_type": "code",
   "execution_count": 19,
   "metadata": {},
   "outputs": [],
   "source": [
    "income.to_csv('linearimpro_pred.csv') "
   ]
  },
  {
   "cell_type": "code",
   "execution_count": null,
   "metadata": {},
   "outputs": [],
   "source": []
  },
  {
   "cell_type": "code",
   "execution_count": null,
   "metadata": {},
   "outputs": [],
   "source": []
  },
  {
   "cell_type": "code",
   "execution_count": null,
   "metadata": {},
   "outputs": [],
   "source": []
  },
  {
   "cell_type": "markdown",
   "metadata": {},
   "source": [
    "# tree model"
   ]
  },
  {
   "cell_type": "markdown",
   "metadata": {},
   "source": [
    "#训练模型\n",
    "from sklearn.tree import DecisionTreeRegressor \n",
    "tree_reg = DecisionTreeRegressor()\n",
    "tree_reg.fit(X_train,y_train)"
   ]
  },
  {
   "cell_type": "markdown",
   "metadata": {},
   "source": [
    "y_pred = tree_reg.predict(X_test)\n",
    "print(y_pred)"
   ]
  },
  {
   "cell_type": "markdown",
   "metadata": {},
   "source": [
    "# random forest model"
   ]
  },
  {
   "cell_type": "markdown",
   "metadata": {},
   "source": [
    "from sklearn.ensemble import RandomForestRegressor\n",
    "forest_reg = RandomForestRegressor()\n",
    "forest_reg.fit(X_train, y_train)"
   ]
  },
  {
   "cell_type": "markdown",
   "metadata": {},
   "source": [
    "y_pred = forest_reg.predict(X_test)\n",
    "print(y_pred)"
   ]
  }
 ],
 "metadata": {
  "kernelspec": {
   "display_name": "Python 3",
   "language": "python",
   "name": "python3"
  },
  "language_info": {
   "codemirror_mode": {
    "name": "ipython",
    "version": 3
   },
   "file_extension": ".py",
   "mimetype": "text/x-python",
   "name": "python",
   "nbconvert_exporter": "python",
   "pygments_lexer": "ipython3",
   "version": "3.7.4"
  }
 },
 "nbformat": 4,
 "nbformat_minor": 2
}
